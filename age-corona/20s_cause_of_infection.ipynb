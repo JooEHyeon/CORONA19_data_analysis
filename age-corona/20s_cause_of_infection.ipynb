{
 "cells": [
  {
   "cell_type": "code",
   "execution_count": 97,
   "metadata": {
    "scrolled": true
   },
   "outputs": [
    {
     "name": "stdout",
     "output_type": "stream",
     "text": [
      "<class 'pandas.core.frame.DataFrame'>\n",
      "RangeIndex: 4004 entries, 0 to 4003\n",
      "Data columns (total 18 columns):\n",
      " #   Column              Non-Null Count  Dtype  \n",
      "---  ------              --------------  -----  \n",
      " 0   patient_id          4004 non-null   int64  \n",
      " 1   global_num          2806 non-null   float64\n",
      " 2   sex                 3674 non-null   object \n",
      " 3   birth_year          3267 non-null   object \n",
      " 4   age                 3525 non-null   object \n",
      " 5   country             4004 non-null   object \n",
      " 6   province            4004 non-null   object \n",
      " 7   city                3926 non-null   object \n",
      " 8   disease             18 non-null     object \n",
      " 9   infection_case      3211 non-null   object \n",
      " 10  infection_order     31 non-null     float64\n",
      " 11  infected_by         899 non-null    object \n",
      " 12  contact_number      680 non-null    object \n",
      " 13  symptom_onset_date  535 non-null    object \n",
      " 14  confirmed_date      4001 non-null   object \n",
      " 15  released_date       1508 non-null   object \n",
      " 16  deceased_date       65 non-null     object \n",
      " 17  state               4004 non-null   object \n",
      "dtypes: float64(2), int64(1), object(15)\n",
      "memory usage: 563.2+ KB\n"
     ]
    },
    {
     "data": {
      "text/plain": [
       "infection_case\n",
       "overseas inflow                    257\n",
       "contact with patient               169\n",
       "etc                                119\n",
       "Shincheonji Church                  41\n",
       "Onchun Church                       18\n",
       "Guro-gu Call Center                 13\n",
       "Itaewon Clubs                       11\n",
       "Dongan Church                        8\n",
       "Coupang Logistics Center             4\n",
       "Milal Shelter                        3\n",
       "Seongdong-gu APT                     2\n",
       "Eunpyeong St. Mary's Hospital        2\n",
       "Changnyeong Coin Karaoke             2\n",
       "gym facility in Cheonan              1\n",
       "River of Grace Community Church      1\n",
       "gym facility in Sejong               1\n",
       "Cheongdo Daenam Hospital             1\n",
       "Name: patient_id, dtype: int64"
      ]
     },
     "execution_count": 97,
     "metadata": {},
     "output_type": "execute_result"
    }
   ],
   "source": [
    "import pandas as pd\n",
    "import numpy as np\n",
    "from matplotlib import font_manager, rc\n",
    "\n",
    "import warnings\n",
    "warnings.filterwarnings(\"ignore\")\n",
    "     \n",
    "time_age = pd.read_csv(r'./data/PatientInfo.csv')\n",
    "time_age.info()\n",
    "time_age = time_age[time_age.age.notnull()]\n",
    "time_20s = time_age[time_age.age=='20s']\n",
    "# time_20s = time_20s.infection_order.value_counts()\n",
    "# print(time_20s.shape)\n",
    "time_20s.groupby('infection_case')['patient_id'].count().sort_values(ascending= False)"
   ]
  }
 ],
 "metadata": {
  "kernelspec": {
   "display_name": "Python 3",
   "language": "python",
   "name": "python3"
  },
  "language_info": {
   "codemirror_mode": {
    "name": "ipython",
    "version": 3
   },
   "file_extension": ".py",
   "mimetype": "text/x-python",
   "name": "python",
   "nbconvert_exporter": "python",
   "pygments_lexer": "ipython3",
   "version": "3.7.6"
  }
 },
 "nbformat": 4,
 "nbformat_minor": 4
}
