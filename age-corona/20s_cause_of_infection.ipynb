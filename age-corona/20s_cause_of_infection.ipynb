{
 "cells": [
  {
   "cell_type": "code",
   "execution_count": 32,
   "metadata": {
    "scrolled": true
   },
   "outputs": [
    {
     "name": "stdout",
     "output_type": "stream",
     "text": [
      "etc                            541\n",
      "hospital                       472\n",
      "store                          178\n",
      "restaurant                     167\n",
      "public_transportation          156\n",
      "airport                         98\n",
      "church                          55\n",
      "cafe                            52\n",
      "pharmacy                        47\n",
      "pc_cafe                         43\n",
      "lodging                         12\n",
      "academy                         10\n",
      "university                      10\n",
      "bar                              8\n",
      "post_office                      8\n",
      "gym                              7\n",
      "bakery                           7\n",
      "school                           7\n",
      "bank                             5\n",
      "karaoke                          5\n",
      "administrative_area_level_1      3\n",
      "gas_station                      3\n",
      "park                             2\n",
      "beauty_salon                     2\n",
      "Name: type, dtype: int64\n"
     ]
    },
    {
     "data": {
      "text/plain": [
       "False    1098\n",
       "True      800\n",
       "Name: is_many, dtype: int64"
      ]
     },
     "execution_count": 32,
     "metadata": {},
     "output_type": "execute_result"
    }
   ],
   "source": [
    "import pandas as pd\n",
    "import numpy as np\n",
    "from matplotlib import font_manager, rc\n",
    "\n",
    "import warnings\n",
    "warnings.filterwarnings(\"ignore\")\n",
    "     \n",
    "time_age = pd.read_csv(r'./data/PatientInfo.csv')\n",
    "patient_route = pd.read_csv(r'./data/PatientRoute.csv')\n",
    "\n",
    "joined_df = time_age.merge(patient_route, left_on = 'patient_id', right_on = 'patient_id', how = 'inner')\n",
    "joined_df = joined_df[joined_df.age.notnull()]\n",
    "joined_df = joined_df[joined_df.age=='20s']\n",
    "print(joined_df.type.value_counts())\n",
    "\n",
    "many_people_place = ['hospital','public_transportation', 'airport', 'church', 'university','school','park']\n",
    "len(many_people_place)\n",
    "\n",
    "def ismany(x):\n",
    "    if x in many_people_place:\n",
    "        res = True\n",
    "    else : \n",
    "        res = False\n",
    "    return res\n",
    "\n",
    "joined_df['is_many'] = joined_df['type'].apply(lambda x: ismany(x))\n",
    "joined_df = joined_df[['patient_id', 'type', 'is_many']]\n",
    "joined_df.is_many.value_counts()"
   ]
  }
 ],
 "metadata": {
  "kernelspec": {
   "display_name": "Python 3",
   "language": "python",
   "name": "python3"
  },
  "language_info": {
   "codemirror_mode": {
    "name": "ipython",
    "version": 3
   },
   "file_extension": ".py",
   "mimetype": "text/x-python",
   "name": "python",
   "nbconvert_exporter": "python",
   "pygments_lexer": "ipython3",
   "version": "3.7.6"
  }
 },
 "nbformat": 4,
 "nbformat_minor": 4
}
